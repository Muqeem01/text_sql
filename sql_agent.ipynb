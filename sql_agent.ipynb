{
 "cells": [
  {
   "cell_type": "code",
   "execution_count": 1,
   "metadata": {},
   "outputs": [
    {
     "name": "stdout",
     "output_type": "stream",
     "text": [
      "Database Dialect: sqlite\n",
      "Tables in the Database: ['customer', 'lineitem', 'nation', 'orders', 'part', 'partsupp', 'region', 'supplier']\n",
      "Query Results: [(1, 'Customer#000000001', 'j5BkijBM1PkCy0O1m', 15, '25-989-741-2988', 711.56, 'BUILDING', 'AN0PL zMkz5kz6N64kM wnAxz6MMgx5B6Nl1ljnM4i QmA4ixB nMgB11jQRi61z70 76NlmCMNPg1yhQjR7myP0'), (2, 'Customer#000000002', '75S7P5k5ClzmQ', 13, '23-768-687-3665', 121.65, 'AUTOMOBILE', '7O2hQQAmzC0mzMxQCnAxNkAPQ40Ly R'), (3, 'Customer#000000003', '407LO15gnn6Q45MNymCwwLx1OC73Qz', 1, '11-719-748-3364', 7498.12, 'AUTOMOBILE', 'y0gRP7h OwL3M6CCSxySRk4hym nP5lhR'), (4, 'Customer#000000004', 'yzwwR1BS537kRzN0nQ4hkx4', 4, '14-128-190-5944', 2866.83, 'MACHINERY', '75MgBC06n3gk4zlwnLgN24yB61SgOA2QwgM 2xlnnPlAxNQ25l14x213wnAkBB64C'), (5, 'Customer#000000005', 'm4nnNlwB35BN4y263gBz0mQh74m50h', 3, '13-750-942-6364', 794.47, 'HOUSEHOLD', 'ROh40lCjSPyLRSnzyjjjB5mwn3S4xklC4LiQlzh RjCLNOBBgl74L2wj1mN3LPzli3iPNjBSg0R707CSn5QAlLSyAnx6nw4nNQw OA2z5333'), (6, 'Customer#000000006', 'x0LSl 7Owj NRAzQ1Nny6k w i7Q5NSzA', 20, '30-114-968-4951', 7638.57, 'AUTOMOBILE', 'C367xn3nSN2RxkRRM  1j Rz44Lm7gNjl0Pj7g1h2NhPAyMNShgxO4P1nh3Lnyn4zzx310QR1550w6zz4xOg4BCg16zwAkQM nCMQlk'), (7, 'Customer#000000007', 'kgBy iSO4CjAk5M 2B1AM7  5Bg6Siki0', 18, '28-190-982-9759', 9561.95, 'AUTOMOBILE', '36MP7RxA0nQBlPOB2RRQQNjSRSxzCzL0zg1hLP7RhCA715k5n 5O320imQwQB2CNB'), (8, 'Customer#000000008', ' g1kShzw6nMxBO3OS2 hxm071n2g64jBjl5x', 17, '27-147-574-9335', 6819.74, 'BUILDING', 'nR1BR4N6LPgAmjmm6j7xxCS14P6h2l0yyLnlnCl4ggmAQmg7C7Sk4Ol5Ai3 '), (9, 'Customer#000000009', '0OkMNLQ15C6M3m6Oz1 w4hLzQ n7MQ', 8, '18-338-906-3675', 8324.07, 'FURNITURE', 'Mk1A0lx Oi L7M5M1y B7NOPLiMg3x4NO1gSmRmLhMBkA6My'), (10, 'Customer#000000010', 'gP CPninAMjShRSQhSilyx', 5, '15-741-346-9870', 2753.54, 'HOUSEHOLD', 'M7xj7Bgnnm36lzC641Mzlgl3RiQR2ljNLBhz043wnMxNPB043MwOO6Ph3j6w4LiyzmO4nz5n0BQLPOR')]\n"
     ]
    }
   ],
   "source": [
    "from langchain_community.utilities import SQLDatabase\n",
    "\n",
    "# Path to your SQLite database\n",
    "db_path =\"tpch_testdb-main/db/tpch120k_sqlite3.db\"\n",
    "\n",
    "# Connect to the database\n",
    "db = SQLDatabase.from_uri(f\"sqlite:///{db_path}\")\n",
    "\n",
    "# Print database details\n",
    "print(\"Database Dialect:\", db.dialect)\n",
    "\n",
    "# Get all usable tables\n",
    "print(\"Tables in the Database:\", db.get_usable_table_names())\n",
    "\n",
    "# Run a test query \n",
    "query = \"SELECT * FROM customer LIMIT 10;\"  \n",
    "print(\"Query Results:\", db.run(query))"
   ]
  },
  {
   "cell_type": "code",
   "execution_count": 18,
   "metadata": {},
   "outputs": [
    {
     "name": "stdout",
     "output_type": "stream",
     "text": [
      "**SQL (Structured Query Language)**\n",
      "\n",
      "SQL is a standard programming language designed for managing and manipulating data stored in relational database management systems (RDBMS). It is used to perform various operations, such as creating and modifying database structures, inserting, updating, and deleting data, and querying data to retrieve specific information.\n",
      "\n",
      "**Key Features of SQL:**\n",
      "\n",
      "1. **Data Definition Language (DDL)**: SQL provides commands to define and modify database structures, such as creating and dropping tables, indexes, and views.\n",
      "2. **Data Manipulation Language (DML)**: SQL provides commands to insert, update, and delete data in a database.\n",
      "3. **Data Query Language (DQL)**: SQL provides commands to retrieve data from a database, such as SELECT statements.\n",
      "4. **Data Control Language (DCL)**: SQL provides commands to control access to a database, such as GRANT and REVOKE statements.\n",
      "\n",
      "**Common SQL Operations:**\n",
      "\n",
      "1. **CREATE**: Create a new table or database object.\n",
      "2. **INSERT**: Insert new data into a table.\n",
      "3. **SELECT**: Retrieve data from a table or view.\n",
      "4. **UPDATE**: Modify existing data in a table.\n",
      "5. **DELETE**: Delete data from a table.\n",
      "6. **JOIN**: Combine data from multiple tables based on a common column.\n",
      "7. **GROUP BY**: Group data based on one or more columns.\n",
      "\n",
      "**SQL Syntax:**\n",
      "\n",
      "SQL syntax is composed of commands, clauses, and functions. It is a declarative language, meaning that you specify what you want to do with your data, rather than how to do it.\n",
      "\n",
      "**Example SQL Query:**\n",
      "```sql\n",
      "SELECT *\n",
      "FROM customers\n",
      "WHERE country = 'USA'\n",
      "ORDER BY last_name ASC;\n",
      "```\n",
      "This query retrieves all columns (`*`) from the `customers` table where the `country` is 'USA', and orders the results by `last_name` in ascending order.\n",
      "\n",
      "**SQL Dialects:**\n",
      "\n",
      "While SQL is a standard language, different RDBMS vendors have their own dialects and extensions. Some popular SQL dialects include:\n",
      "\n",
      "1. **MySQL**\n",
      "2. **PostgreSQL**\n",
      "3. **Microsoft SQL Server (T-SQL)**\n",
      "4. **Oracle (PL/SQL)**\n",
      "\n",
      "Each dialect has its own strengths and weaknesses, and may support different features and syntax.\n"
     ]
    }
   ],
   "source": [
    "\n",
    "\n",
    "api_key = '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'\n",
    "\n",
    "\n",
    "from langchain.chat_models import init_chat_model\n",
    "llm = init_chat_model(\"meta-llama/llama-4-maverick-17b-128e-instruct\", model_provider=\"groq\", api_key=api_key, verbose=False)\n",
    "response=llm.invoke(\"What is sql language?\")\n",
    "print(response.content.strip())"
   ]
  },
  {
   "cell_type": "code",
   "execution_count": 19,
   "metadata": {},
   "outputs": [],
   "source": [
    "from typing_extensions import TypedDict\n",
    "\n",
    "\n",
    "class State(TypedDict):\n",
    "    question: str\n",
    "    query: str\n",
    "    result: str\n",
    "    answer: str\n",
    "    "
   ]
  },
  {
   "cell_type": "code",
   "execution_count": 20,
   "metadata": {},
   "outputs": [],
   "source": [
    "import os\n",
    "from langchain_openai import ChatOpenAI\n",
    "from langchain_core.prompts import ChatPromptTemplate, MessagesPlaceholder\n",
    "from langchain.schema.runnable import RunnablePassthrough\n",
    "from langchain_core.output_parsers import StrOutputParser\n",
    "from langchain.prompts import (\n",
    "    ChatPromptTemplate,\n",
    "    FewShotChatMessagePromptTemplate,\n",
    ")\n"
   ]
  },
  {
   "cell_type": "code",
   "execution_count": 21,
   "metadata": {},
   "outputs": [
    {
     "name": "stdout",
     "output_type": "stream",
     "text": [
      "System: You are a SQL expert. Generate SQL queries following these rules:\n",
      "        1. Use <langchain_community.utilities.sql_database.SQLDatabase object at 0x000001F3AECC5990> syntax\n",
      "        2. Only use these tables:\n",
      "        ['customer', 'lineitem', 'nation', 'orders', 'part', 'partsupp', 'region', 'supplier']\n",
      "        3. No explanations\n",
      "        4. Limit to 10 results\n",
      "Human: Question: List all artists.\n",
      "AI: SQLQuery: SELECT * FROM Artist;\n",
      "Human: Question: Find all albums for the artist 'AC/DC'.\n",
      "AI: SQLQuery: SELECT * FROM Album WHERE ArtistId = (SELECT ArtistId FROM Artist WHERE Name = 'AC/DC');\n",
      "Human: Question: question?\n"
     ]
    }
   ],
   "source": [
    "from langchain.prompts import ChatPromptTemplate, FewShotChatMessagePromptTemplate\n",
    "from langchain_core.prompts import PromptTemplate\n",
    "# 1. Define CLEAN few-shot examples (question → query only)\n",
    "few_shot_examples = [\n",
    "    {\"input\": \"List all artists.\", \"query\": \"SELECT * FROM Artist;\"},\n",
    "    {\n",
    "        \"input\": \"Find all albums for the artist 'AC/DC'.\",\n",
    "        \"query\": \"SELECT * FROM Album WHERE ArtistId = (SELECT ArtistId FROM Artist WHERE Name = 'AC/DC');\",\n",
    "    }\n",
    "        \n",
    "]\n",
    "\n",
    "# 2. Create example prompt template\n",
    "example_prompt = ChatPromptTemplate.from_messages([\n",
    "    (\"human\", \"Question: {input}\"),\n",
    "    (\"ai\", \"SQLQuery: {query}\")  # Only show question → SQL mapping\n",
    "])\n",
    "\n",
    "# 3. Create few-shot prompt template\n",
    "few_shot_prompt = FewShotChatMessagePromptTemplate(\n",
    "    example_prompt=example_prompt,\n",
    "    examples=few_shot_examples,\n",
    ")\n",
    "\n",
    "# 4. Define FINAL prompt template (single definition)\n",
    "query_prompt_template = ChatPromptTemplate.from_messages([\n",
    "    (\n",
    "        \"system\",\n",
    "        \"\"\"You are a SQL expert. Generate SQL queries following these rules:\n",
    "        1. Use {dialect} syntax\n",
    "        2. Only use these tables:\n",
    "        {table_info}\n",
    "        3. No explanations\n",
    "        4. Limit to {top_k} results\"\"\"\n",
    "    ),\n",
    "    few_shot_prompt,\n",
    "    (\"human\", \"Question: {input}\"),  \n",
    "])\n",
    "\n",
    "# 5. Format with ALL required variables\n",
    "formatted_prompt = query_prompt_template.format(\n",
    "    dialect=db,\n",
    "    table_info=db.get_usable_table_names(),\n",
    "    top_k=10,\n",
    "    input=\"question?\"  \n",
    ")\n",
    "\n",
    "print(formatted_prompt)"
   ]
  },
  {
   "cell_type": "code",
   "execution_count": 77,
   "metadata": {},
   "outputs": [],
   "source": [
    "from typing_extensions import Annotated\n",
    "\n",
    "\n",
    "\n",
    "class QueryOutput(TypedDict):\n",
    "    \"\"\"Generated SQL query.\"\"\"\n",
    "    query: Annotated[str, ..., \"Syntactically valid SQL query.\"]\n",
    "    \n",
    "\n",
    "def write_query(state: State):\n",
    "    prompt = query_prompt_template.invoke(\n",
    "        {\n",
    "            \"dialect\": db.dialect,\n",
    "            \"top_k\": 10,\n",
    "            \"table_info\": db.get_table_info(),\n",
    "            \"input\": state[\"question\"],\n",
    "            \"few_shot_examples\": formatted_prompt,\n",
    "            \n",
    "        })\n",
    "    structured_llm = llm.with_structured_output(QueryOutput)\n",
    "    \n",
    "    \n",
    "\n",
    "    result = structured_llm.invoke(prompt)\n",
    "    return {\"query\": result[\"query\"]}"
   ]
  },
  {
   "cell_type": "code",
   "execution_count": 78,
   "metadata": {},
   "outputs": [],
   "source": [
    "input=\"what order cost more than $3000?\""
   ]
  },
  {
   "cell_type": "code",
   "execution_count": 81,
   "metadata": {},
   "outputs": [
    {
     "name": "stdout",
     "output_type": "stream",
     "text": [
      "{'query': 'SELECT * FROM orders WHERE O_TOTALPRICE > 3000 LIMIT 10'}\n"
     ]
    }
   ],
   "source": [
    "query=write_query(State(question=input))\n",
    "print(query)"
   ]
  },
  {
   "cell_type": "code",
   "execution_count": 82,
   "metadata": {},
   "outputs": [],
   "source": [
    "from langchain_community.tools.sql_database.tool import QuerySQLDatabaseTool\n",
    "\n",
    "\n",
    "def execute_query(state: State):\n",
    "    \"\"\"Execute SQL query in a tabular format.\"\"\"\n",
    "    execute_query_tool = QuerySQLDatabaseTool(db=db)\n",
    "    return {\"result\": execute_query_tool.invoke(state[\"query\"])}"
   ]
  },
  {
   "cell_type": "code",
   "execution_count": 83,
   "metadata": {},
   "outputs": [
    {
     "data": {
      "text/plain": [
       "{'result': \"[(1, 4, 'O', 125405.67, '1996-01-02', '5-LOW', 'Clerk#000000951', 0, 'jSmgxOi157kxm gCwQzgNOmiO0MkhCR4N BLj6OQBkl34kj2yly5RzlOzx0A1Chi2j'), (2, 8, 'O', 23768.89, '1996-12-01', '1-URGENT', 'Clerk#000000880', 0, 'O31m7Sw6LmC25k3RBw BmRkkjmzBCO4Qij67CN3mQ4g5jLhSAlh1CAgR'), (3, 13, 'F', 171938.11, '1993-10-14', '5-LOW', 'Clerk#000000955', 0, 'xxSzlw2hwnM10PijiOz'), (4, 14, 'O', 3924.8, '1995-10-11', '5-LOW', 'Clerk#000000124', 0, 'h3OQgm02ykNOwPxhl xRMjOhSh7j7NMLQxO QiAOCRw3l1n0x5mgyO 5i4mNmO1 mQMwB4SmQmO3n'), (5, 5, 'F', 102684.74, '1994-07-30', '5-LOW', 'Clerk#000000925', 0, 'kP35gMk63NQO60AlClPOim MQzSgLwN3hzL'), (7, 14, 'O', 135813.47, '1996-01-10', '2-HIGH', 'Clerk#000000470', 0, 'LxAgMC N7OkSAmgj2zxhNCAgRNyO7RNC'), (32, 7, 'O', 137139.85, '1995-07-16', '2-HIGH', 'Clerk#000000616', 0, 'MAB50lSS5gniPR34mM16PABjh43ykOSL07zQ01iRlmSwyBz1C  m'), (33, 7, 'F', 55513.67, '1993-10-27', '3-MEDIUM', 'Clerk#000000409', 0, 'Azig7CjSAC7AlLQxj0zlLBShM6hLS M2'), (34, 13, 'O', 83360.53, '1998-07-21', '3-MEDIUM', 'Clerk#000000223', 0, 'LNzjQnQOQzzxj ljjnhShhkk2xkN3RSwixyOi7N hjyCN'), (35, 13, 'O', 102795.9, '1995-10-23', '4-NOT SPECIFIED', 'Clerk#000000259', 0, 'NB 5x1xQP3jxwnRz  l4PSw4mimP1hNwlLl6nkx0kQRxAkhMkPy6O3j')]\"}"
      ]
     },
     "execution_count": 83,
     "metadata": {},
     "output_type": "execute_result"
    }
   ],
   "source": [
    "execute_query({\"query\": query})"
   ]
  },
  {
   "cell_type": "code",
   "execution_count": 84,
   "metadata": {},
   "outputs": [],
   "source": [
    "from os import getenv\n",
    "\n",
    "\n",
    "key='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'\n",
    "llm2=ChatOpenAI(model=\"nvidia/llama-3.3-nemotron-super-49b-v1:free\",openai_api_key=key,openai_api_base=\"https://openrouter.ai/api/v1\",temperature=0, verbose=False)\n"
   ]
  },
  {
   "cell_type": "code",
   "execution_count": 94,
   "metadata": {},
   "outputs": [],
   "source": [
    "def generate_answer(state: State):\n",
    "    \"\"\"Generate a final answer based on the SQL result.\"\"\"\n",
    "    prompt = (\n",
    "        \"You are a helpful assistant. Based on the SQL result, answer the user's question.\\n\"\n",
    "        \"DO NOT include any <think> sections, explanations, or reasoning.\\n\"\n",
    "        \"ONLY return the final answer in one plain English sentence.\\n\"\n",
    "        f'Question: {state[\"question\"]}\\n'\n",
    "        f'SQL Query: {state[\"query\"]}\\n'\n",
    "        f'SQL Result: {state[\"result\"]}'\n",
    "\n",
    "    )\n",
    "    responce = llm2.invoke(prompt)\n",
    "    return {\"answer\":responce.content}"
   ]
  },
  {
   "cell_type": "code",
   "execution_count": 95,
   "metadata": {},
   "outputs": [],
   "source": [
    "from langgraph.graph import START, StateGraph\n",
    "\n",
    "graph_builder = StateGraph(State).add_sequence(\n",
    "    [write_query, execute_query, generate_answer]\n",
    ")\n",
    "graph_builder.add_edge(START, \"write_query\")\n",
    "graph = graph_builder.compile()"
   ]
  },
  {
   "cell_type": "code",
   "execution_count": 97,
   "metadata": {},
   "outputs": [
    {
     "name": "stdout",
     "output_type": "stream",
     "text": [
      "{'write_query': {'query': 'SELECT * FROM orders WHERE O_TOTALPRICE > 3000 LIMIT 10'}}\n",
      "{'execute_query': {'result': \"[(1, 4, 'O', 125405.67, '1996-01-02', '5-LOW', 'Clerk#000000951', 0, 'jSmgxOi157kxm gCwQzgNOmiO0MkhCR4N BLj6OQBkl34kj2yly5RzlOzx0A1Chi2j'), (2, 8, 'O', 23768.89, '1996-12-01', '1-URGENT', 'Clerk#000000880', 0, 'O31m7Sw6LmC25k3RBw BmRkkjmzBCO4Qij67CN3mQ4g5jLhSAlh1CAgR'), (3, 13, 'F', 171938.11, '1993-10-14', '5-LOW', 'Clerk#000000955', 0, 'xxSzlw2hwnM10PijiOz'), (4, 14, 'O', 3924.8, '1995-10-11', '5-LOW', 'Clerk#000000124', 0, 'h3OQgm02ykNOwPxhl xRMjOhSh7j7NMLQxO QiAOCRw3l1n0x5mgyO 5i4mNmO1 mQMwB4SmQmO3n'), (5, 5, 'F', 102684.74, '1994-07-30', '5-LOW', 'Clerk#000000925', 0, 'kP35gMk63NQO60AlClPOim MQzSgLwN3hzL'), (7, 14, 'O', 135813.47, '1996-01-10', '2-HIGH', 'Clerk#000000470', 0, 'LxAgMC N7OkSAmgj2zxhNCAgRNyO7RNC'), (32, 7, 'O', 137139.85, '1995-07-16', '2-HIGH', 'Clerk#000000616', 0, 'MAB50lSS5gniPR34mM16PABjh43ykOSL07zQ01iRlmSwyBz1C  m'), (33, 7, 'F', 55513.67, '1993-10-27', '3-MEDIUM', 'Clerk#000000409', 0, 'Azig7CjSAC7AlLQxj0zlLBShM6hLS M2'), (34, 13, 'O', 83360.53, '1998-07-21', '3-MEDIUM', 'Clerk#000000223', 0, 'LNzjQnQOQzzxj ljjnhShhkk2xkN3RSwixyOi7N hjyCN'), (35, 13, 'O', 102795.9, '1995-10-23', '4-NOT SPECIFIED', 'Clerk#000000259', 0, 'NB 5x1xQP3jxwnRz  l4PSw4mimP1hNwlLl6nkx0kQRxAkhMkPy6O3j')]\"}}\n",
      "{'generate_answer': {'answer': 'The orders with IDs 1, 7, 32, 34, and 35 cost more than $3000.'}}\n"
     ]
    }
   ],
   "source": [
    "for step in graph.stream(\n",
    "    {\"question\":input}, stream_mode=\"updates\"\n",
    "):\n",
    "    print(step)"
   ]
  }
 ],
 "metadata": {
  "kernelspec": {
   "display_name": "Python 3",
   "language": "python",
   "name": "python3"
  },
  "language_info": {
   "codemirror_mode": {
    "name": "ipython",
    "version": 3
   },
   "file_extension": ".py",
   "mimetype": "text/x-python",
   "name": "python",
   "nbconvert_exporter": "python",
   "pygments_lexer": "ipython3",
   "version": "3.11.9"
  }
 },
 "nbformat": 4,
 "nbformat_minor": 2
}
